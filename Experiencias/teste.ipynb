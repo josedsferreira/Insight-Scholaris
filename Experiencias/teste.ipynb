{
 "cells": [
  {
   "cell_type": "code",
   "execution_count": 4,
   "metadata": {},
   "outputs": [
    {
     "name": "stdout",
     "output_type": "stream",
     "text": [
      "Classification report for classifier XGBClassifier(base_score=None, booster=None, callbacks=None,\n",
      "              colsample_bylevel=None, colsample_bynode=None,\n",
      "              colsample_bytree=None, device=None, early_stopping_rounds=None,\n",
      "              enable_categorical=False, eval_metric='mlogloss',\n",
      "              feature_types=None, gamma=None, grow_policy=None,\n",
      "              importance_type=None, interaction_constraints=None,\n",
      "              learning_rate=None, max_bin=None, max_cat_threshold=None,\n",
      "              max_cat_to_onehot=None, max_delta_step=None, max_depth=None,\n",
      "              max_leaves=None, min_child_weight=None, missing=nan,\n",
      "              monotone_constraints=None, multi_strategy=None, n_estimators=None,\n",
      "              n_jobs=None, num_parallel_tree=None, objective='multi:softprob', ...):\n",
      "              precision    recall  f1-score   support\n",
      "\n",
      "           0       0.26      0.04      0.06       593\n",
      "           1       0.36      0.15      0.21      1495\n",
      "           2       0.45      0.66      0.54      2458\n",
      "           3       0.43      0.47      0.45      1973\n",
      "\n",
      "    accuracy                           0.43      6519\n",
      "   macro avg       0.37      0.33      0.31      6519\n",
      "weighted avg       0.40      0.43      0.39      6519\n",
      "\n",
      "\n",
      "PARAMETROS:\n",
      "{'objective': 'multi:softprob', 'base_score': None, 'booster': None, 'callbacks': None, 'colsample_bylevel': None, 'colsample_bynode': None, 'colsample_bytree': None, 'device': None, 'early_stopping_rounds': None, 'enable_categorical': False, 'eval_metric': 'mlogloss', 'feature_types': None, 'gamma': None, 'grow_policy': None, 'importance_type': None, 'interaction_constraints': None, 'learning_rate': None, 'max_bin': None, 'max_cat_threshold': None, 'max_cat_to_onehot': None, 'max_delta_step': None, 'max_depth': None, 'max_leaves': None, 'min_child_weight': None, 'missing': nan, 'monotone_constraints': None, 'multi_strategy': None, 'n_estimators': None, 'n_jobs': None, 'num_parallel_tree': None, 'random_state': None, 'reg_alpha': None, 'reg_lambda': None, 'sampling_method': None, 'scale_pos_weight': None, 'subsample': None, 'tree_method': None, 'validate_parameters': None, 'verbosity': None, 'use_label_encoder': False}\n"
     ]
    }
   ],
   "source": [
    "import os\n",
    "from dotenv import load_dotenv\n",
    "import pandas as pd\n",
    "from sklearn.calibration import LabelEncoder\n",
    "from xgboost import XGBClassifier\n",
    "from sklearn.model_selection import train_test_split\n",
    "from sklearn.metrics import classification_report\n",
    "\n",
    "data = pd.read_csv('studentinfo.csv')\n",
    "\n",
    "#XGBOOST\n",
    "\n",
    "X = data.drop(['final_result'], axis=1)  # Features / colunas que vao ser usadas para prever\n",
    "#tambem dropei code_module e code_presentation porque acho que nao sao relevantes para prever o resultado final\n",
    "\n",
    "X = pd.get_dummies(X) #transforma as colunas categoricas em colunas binarias\n",
    "\n",
    "# Ensure all feature names are strings and do not contain special characters\n",
    "X.columns = [str(col).replace('[', '').replace(']', '').replace('<', '') for col in X.columns]\n",
    "\n",
    "# Convert string labels to numerical labels\n",
    "le = LabelEncoder()\n",
    "y = le.fit_transform(data['final_result'])\n",
    "\n",
    "# Split the data into training and testing sets\n",
    "X_train, X_test, y_train, y_test = train_test_split(X, y, test_size=0.2, random_state=42)\n",
    "\n",
    "# Create a XGBoost Classifier\n",
    "clf = XGBClassifier(use_label_encoder=False, eval_metric='mlogloss')\n",
    "\n",
    "# Train the model using the training sets\n",
    "clf.fit(X_train, y_train)\n",
    "\n",
    "# Predict the response for test dataset\n",
    "y_pred = clf.predict(X_test)\n",
    "\n",
    "print(\n",
    "    f\"Classification report for classifier {clf}:\\n\"\n",
    "    f\"{classification_report(y_test, y_pred)}\\n\"\n",
    ")\n",
    "\n",
    "print(\"PARAMETROS:\")\n",
    "print(clf.get_params())\n",
    "\n",
    "\n"
   ]
  }
 ],
 "metadata": {
  "kernelspec": {
   "display_name": "Python 3",
   "language": "python",
   "name": "python3"
  },
  "language_info": {
   "codemirror_mode": {
    "name": "ipython",
    "version": 3
   },
   "file_extension": ".py",
   "mimetype": "text/x-python",
   "name": "python",
   "nbconvert_exporter": "python",
   "pygments_lexer": "ipython3",
   "version": "3.12.3"
  }
 },
 "nbformat": 4,
 "nbformat_minor": 2
}
