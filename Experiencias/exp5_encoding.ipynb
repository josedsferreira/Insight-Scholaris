{
 "cells": [
  {
   "cell_type": "markdown",
   "metadata": {},
   "source": [
    "# encoding experiments"
   ]
  },
  {
   "cell_type": "code",
   "execution_count": 10,
   "metadata": {},
   "outputs": [
    {
     "name": "stdout",
     "output_type": "stream",
     "text": [
      "Unique values in code_module: ['AAA' 'BBB' 'CCC' 'DDD' 'EEE' 'FFF' 'GGG']\n",
      "Unique values in code_presentation: ['2013J' '2014J' '2013B' '2014B']\n",
      "Unique values in gender: ['M' 'F']\n",
      "Unique values in region: ['East Anglian Region' 'Scotland' 'North Western Region'\n",
      " 'South East Region' 'West Midlands Region' 'Wales' 'North Region'\n",
      " 'South Region' 'Ireland' 'South West Region' 'East Midlands Region'\n",
      " 'Yorkshire Region' 'London Region']\n",
      "Unique values in highest_education: ['HE Qualification' 'A Level or Equivalent' 'Lower Than A Level'\n",
      " 'Post Graduate Qualification' 'No Formal quals']\n",
      "Unique values in imd_band: ['90-100%' '20-30%' '30-40%' '50-60%' '80-90%' '70-80%' nan '60-70%'\n",
      " '40-50%' '10-20' '0-10%']\n",
      "Unique values in age_band: ['55<=' '35-55' '0-35']\n",
      "Unique values in disability: ['N' 'Y']\n",
      "Unique values in final_result: ['Pass' 'Withdrawn' 'Fail' 'Distinction']\n"
     ]
    }
   ],
   "source": [
    "import pandas as pd\n",
    "from sklearn.preprocessing import LabelEncoder\n",
    "\n",
    "filename = \"C:/Users/josed/OneDrive - Ensino Lusófona/3º ano 2º semestre/Projeto II/Insight Scholaris/Experiencias/studentInfo.csv\"\n",
    "\n",
    "df = pd.read_csv(filename)\n",
    "\n",
    "for col in df.columns:\n",
    "    if col not in [\"id_student\", \"num_of_prev_attempts\", \"studied_credits\"]:\n",
    "        print(f\"Unique values in {col}: {df[col].unique()}\")\n",
    "\n"
   ]
  },
  {
   "cell_type": "code",
   "execution_count": 7,
   "metadata": {},
   "outputs": [
    {
     "name": "stdout",
     "output_type": "stream",
     "text": [
      "code_module             object\n",
      "code_presentation       object\n",
      "id_student               int64\n",
      "gender                  object\n",
      "region                  object\n",
      "highest_education       object\n",
      "imd_band                object\n",
      "age_band                object\n",
      "num_of_prev_attempts     int64\n",
      "studied_credits          int64\n",
      "disability              object\n",
      "final_result            object\n",
      "dtype: object\n"
     ]
    }
   ],
   "source": [
    "# Print the data types of all columns\n",
    "print(df.dtypes)\n"
   ]
  },
  {
   "cell_type": "code",
   "execution_count": 8,
   "metadata": {},
   "outputs": [
    {
     "name": "stdout",
     "output_type": "stream",
     "text": [
      "['Distinction', 'Fail', 'Pass', 'Withdrawn']\n",
      "   code_module  code_presentation  id_student  gender  region  \\\n",
      "0            0                  1       11391       1       0   \n",
      "1            0                  1       28400       0       6   \n",
      "2            0                  1       30268       0       5   \n",
      "\n",
      "   highest_education  imd_band  age_band  num_of_prev_attempts  \\\n",
      "0                  1         9         2                     0   \n",
      "1                  1         2         1                     0   \n",
      "2                  0         3         1                     0   \n",
      "\n",
      "   studied_credits  disability  final_result  \n",
      "0              240           0             2  \n",
      "1               60           0             2  \n",
      "2               60           1             3  \n"
     ]
    }
   ],
   "source": [
    "# Create a label (category) encoder object\n",
    "le = LabelEncoder()\n",
    "\n",
    "for col in df.columns:\n",
    "    if df[col].dtype == 'object':\n",
    "        df[col] = le.fit_transform(df[col])\n",
    "\n",
    "# View the labels (if you wish)\n",
    "print(list(le.classes_))\n",
    "\n",
    "print(df.head(3))"
   ]
  }
 ],
 "metadata": {
  "kernelspec": {
   "display_name": "Python 3",
   "language": "python",
   "name": "python3"
  },
  "language_info": {
   "codemirror_mode": {
    "name": "ipython",
    "version": 3
   },
   "file_extension": ".py",
   "mimetype": "text/x-python",
   "name": "python",
   "nbconvert_exporter": "python",
   "pygments_lexer": "ipython3",
   "version": "3.12.3"
  }
 },
 "nbformat": 4,
 "nbformat_minor": 2
}
